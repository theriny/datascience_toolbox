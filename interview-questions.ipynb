{
 "cells": [
  {
   "cell_type": "markdown",
   "metadata": {},
   "source": [
    "# Data Science Interview Questions\n",
    "\n",
    "\n",
    "## Model Performance\n",
    "A. Variance\n",
    "\n",
    "Q: What is variance in a model?\n",
    "\n",
    "A: Variance in a model refers to how much the model's predictions change when trained on different subsets of the data. It captures the sensitivity of the model to variations in the training data. High variance means the model is very sensitive to the specific data it was trained on. This results in large fluctuations in predictions when exposed to different datasets, even if they are similar. High variance is typically associated with overfitting. Low variance means the model's predictions are stable, even when trained on different datasets.\n",
    "\n",
    "## Models\n",
    "A. Decision Trees\n",
    "\n",
    "Q: Is a decision tree the best model for determining if a borrower will repay a loan? How would you evaluate performance of the model?\n",
    "\n",
    "A: It depends on the data and its quality. A decision tree model is useful for classification tasks like this one. The performance of the model can be assessed with metrics like precision, recall, AUC ROC curve, accuracy, or F1-score. The metric used depends on certain characteristics of the data such as whether or not there is class imbalance. Accuracy is useful when the classes are well-balanced. Precision is useful when the number of false positive (borrowers denied loan but should have been approved) predictions are low. Recall is useful when the number of fale negative (borrower approved but should have been denied) predictions are low (this will likely mean that false positives don't get caught which would be a smaller risk than false negatives not being caught). \n"
   ]
  }
 ],
 "metadata": {
  "language_info": {
   "name": "python"
  }
 },
 "nbformat": 4,
 "nbformat_minor": 2
}
