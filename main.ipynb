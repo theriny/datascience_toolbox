{
    "cells": [
        {
            "cell_type": "markdown",
            "id": "db17dc66",
            "metadata": {},
            "source": [
                "# Data Science Study Guide"
            ]
        },
        {
            "cell_type": "markdown",
            "id": "bf2a91bd",
            "metadata": {},
            "source": [
                "## 1. Stochastic Gradient Descent (SGD)"
            ]
        },
        {
            "cell_type": "markdown",
            "id": "ebc24cb8",
            "metadata": {},
            "source": [
                "- **Definition**: Stochastic Gradient Descent is an optimization algorithm used to minimize the cost function in machine learning models, particularly for linear models like logistic regression and neural networks. It is a variant of gradient descent where the model parameters are updated for each training example, rather than calculating the gradient based on the entire dataset.\n",
                "\n",
                "- **How it works**:\n",
                "  1. Randomly shuffle the data.\n",
                "  2. Take one sample from the training set, compute the gradient of the cost function with respect to the model parameters, and update the parameters using this gradient.\n",
                "\n",
                "  1. A cost function (e.g. MSE), or $J(\\theta)$ is defined:\n",
                "      $$\n",
                "      J(\\theta) = \\frac{1}{2m} \\sum_{i=1}^m (\\hat{y}^{(i)} - y^{(i)})^2\n",
                "      $$\n",
                "    \n",
                "\n",
                "\n",
                "    where:\n",
                "    * $\\hat{y}^{(i)}$ is the model's prediction for the i-th example,\n",
                "    * $y^{(i)}$ is the actual value for the i-th example,\n",
                "    * $\\textit{m}$ is the total number of examples,\n",
                "    * $\\theta$ represents the parameters of the model.\n",
                "  \n",
                "    2. The gradient is the vector of partial derivatives of the cost function with respect to each model parameter. For each parameter $\\theta_j$, the partial derivative is:\n",
                "    $$\n",
                "    \\frac{\\partial J(\\theta)}{\\partial \\theta_j},\n",
                "    $$\n",
                "    \n",
                "    This derivative is computed to update $\\theta_j$.\n",
                "    \n",
                "    Here's partial derivative with respect to $\\theta_j$ :\n",
                "    $$,\n",
                "    \\frac{\\partial J(\\theta)}{\\partial \\theta_j} = \\frac{1}{m}\\sum_{i=1}(\\hat{y}^{(i)}-y^{(i)})x_j^{(i)}\n",
                "    $$\n",
                "    \n",
                "    where $x_j^{(i)}$ is the value of the $i$-th example.\n",
                "    \n",
                "    3. The gradient points in the direction of the steepest ascent of the cost function. To minimize the cost function, we take steps in the opposite direction of the gradient. This leads to a parameter update rule in gradient descent:\n",
                "    \n",
                "    $$\n",
                "    \\theta_j := \\theta_j - \\alpha\\frac{\\partial J(\\theta)}{\\partial \\theta_j}\n",
                "    $$\n",
                "    \n",
                "    where $\\alpha$ is the learning rate that controls the step size.\n",
                "    \n",
                "    3. Repeat this for all samples and iterate until convergence.\n",
                "    \n",
                "  3. Repeat this for all samples and iterate until convergence.\n",
                "\n",
                "- **Advantages**:\n",
                "  - Faster convergence for large datasets.\n",
                "  - Reduces memory usage since updates are done incrementally.\n",
                "\n",
                "- **Disadvantages**:\n",
                "  - Can be noisy, as it updates based on individual data points rather than the full batch.\n",
                "  - May converge to suboptimal solutions due to noise."
            ]
        },
        {
            "cell_type": "markdown",
            "id": "8e9a2011",
            "metadata": {},
            "source": [
                "## 2. Multicollinearity"
            ]
        },
        {
            "cell_type": "markdown",
            "id": "98b3b86c",
            "metadata": {},
            "source": [
                "- **Definition**: Multicollinearity occurs when two or more independent variables in a regression model are highly correlated, meaning one can be linearly predicted from the others.\n",
                "\n",
                "- **Why it matters**:\n",
                "  - It can lead to inflated standard errors of the coefficients, making it hard to assess the impact of individual predictors.\n",
                "  - Coefficient estimates become unstable and highly sensitive to changes in the model.\n",
                "\n",
                "- **Detection Methods**:\n",
                "  1. **Variance Inflation Factor (VIF)**: Measures how much the variance of a regression coefficient is inflated due to multicollinearity.\n",
                "  2. **Correlation Matrix**: Check for high correlation values between independent variables.\n",
                "\n",
                "- **Solutions**:\n",
                "  - Remove highly correlated predictors.\n",
                "  - Use dimensionality reduction techniques like Principal Component Analysis (PCA).\n",
                "  - Use regularization methods like Ridge or Lasso Regression."
            ]
        },
        {
            "cell_type": "markdown",
            "id": "83fca584",
            "metadata": {},
            "source": [
                "## 3. Common Machine Learning Algorithms"
            ]
        },
        {
            "cell_type": "markdown",
            "id": "f6f7445f",
            "metadata": {},
            "source": [
                "### 1. Linear Regression\n",
                "- **Type**: Supervised learning (regression)\n",
                "- **Use case**: Predicting a continuous value (e.g., predicting house prices).\n",
                "- **Key idea**: Models the relationship between a dependent variable and one or more independent variables by fitting a linear equation to observed data."
            ]
        },
        {
            "cell_type": "markdown",
            "id": "5e2f3022",
            "metadata": {},
            "source": [
                "### 2. Logistic Regression\n",
                "- **Type**: Supervised learning (classification)\n",
                "- **Use case**: Predicting binary outcomes (e.g., spam detection, disease presence).\n",
                "- **Key idea**: Uses the logistic function to model binary outcomes, where the output is transformed into probabilities."
            ]
        },
        {
            "cell_type": "markdown",
            "id": "db144489",
            "metadata": {},
            "source": [
                "### 3. Decision Trees\n",
                "- **Type**: Supervised learning (classification and regression)\n",
                "- **Use case**: Modeling decisions with hierarchical structure (e.g., customer segmentation).\n",
                "- **Key idea**: Splits data into subsets based on feature values, leading to a tree-like structure of decisions."
            ]
        },
        {
            "cell_type": "markdown",
            "id": "a6cb3e92",
            "metadata": {},
            "source": [
                "### 4. Random Forest\n",
                "- **Type**: Supervised learning (classification and regression)\n",
                "- **Use case**: Robust predictions with high accuracy (e.g., fraud detection, image classification).\n",
                "- **Key idea**: An ensemble of decision trees, where multiple trees are built and their predictions averaged (regression) or taken by majority vote (classification)."
            ]
        },
        {
            "cell_type": "markdown",
            "id": "aa788619",
            "metadata": {},
            "source": [
                "### 5. Support Vector Machines (SVM)\n",
                "- **Type**: Supervised learning (classification)\n",
                "- **Use case**: High-dimensional classification problems (e.g., text categorization).\n",
                "- **Key idea**: Finds the hyperplane that best separates the classes in the feature space."
            ]
        },
        {
            "cell_type": "markdown",
            "id": "c148e02d",
            "metadata": {},
            "source": [
                "### 6. K-Nearest Neighbors (KNN)\n",
                "- **Type**: Supervised learning (classification and regression)\n",
                "- **Use case**: Simple, instance-based learning (e.g., recommendation systems).\n",
                "- **Key idea**: Classifies a new data point based on the majority label of its k-nearest neighbors."
            ]
        },
        {
            "cell_type": "markdown",
            "id": "e2f94edb",
            "metadata": {},
            "source": [
                "### 7. K-Means Clustering\n",
                "- **Type**: Unsupervised learning (clustering)\n",
                "- **Use case**: Grouping data into clusters (e.g., market segmentation).\n",
                "- **Key idea**: Partitions data into k clusters, where each data point belongs to the cluster with the nearest mean."
            ]
        },
        {
            "cell_type": "markdown",
            "id": "f7d757bc",
            "metadata": {},
            "source": [
                "### 8. Gradient Boosting Machines (GBM)\n",
                "- **Type**: Supervised learning (classification and regression)\n",
                "- **Use case**: Predictive accuracy in structured data (e.g., financial forecasting).\n",
                "- **Key idea**: Builds an ensemble of weak models (e.g., decision trees) in a sequential manner, where each model corrects the errors of its predecessor."
            ]
        },
        {
            "cell_type": "markdown",
            "id": "5f6ba388",
            "metadata": {},
            "source": [
                "## 4. Regularization"
            ]
        },
        {
            "cell_type": "markdown",
            "id": "d5fb2600",
            "metadata": {},
            "source": [
                "- **Definition**: Regularization is a technique to reduce model overfitting by adding a penalty term to the loss function.\n",
                "\n",
                "- **Types**:\n",
                "  - **Ridge Regression (L2 Regularization)**: Adds a penalty equal to the square of the magnitude of coefficients, shrinking less important features but keeping all in the model.\n",
                "  - **Lasso Regression (L1 Regularization)**: Adds a penalty equal to the absolute value of the magnitude of coefficients, leading to some coefficients becoming exactly zero (automatic feature selection).\n",
                "\n",
                "- **Why it matters**: Regularization prevents overfitting by discouraging overly complex models that fit the training data too closely but generalize poorly to new data."
            ]
        },
        {
            "cell_type": "markdown",
            "id": "e353ff3c",
            "metadata": {},
            "source": [
                "## 5. Bias-Variance Tradeoff"
            ]
        },
        {
            "cell_type": "markdown",
            "id": "a0ccd88f",
            "metadata": {},
            "source": [
                "- **Bias**: Error due to overly simplistic assumptions in the model. High bias can lead to underfitting (the model is too simple to capture the underlying patterns).\n",
                "\n",
                "- **Variance**: Error due to the model being too sensitive to small fluctuations in the training data. High variance can lead to overfitting (the model is too complex and captures noise as well as the underlying patterns).\n",
                "\n",
                "- **Tradeoff**: The goal is to balance bias and variance to minimize the total prediction error."
            ]
        },
        {
            "cell_type": "markdown",
            "id": "fc61a4fb",
            "metadata": {},
            "source": [
                "## 6. Cross-Validation"
            ]
        },
        {
            "cell_type": "markdown",
            "id": "80cbdb8c",
            "metadata": {},
            "source": [
                "- **Definition**: Cross-validation is a technique used to evaluate the generalization ability of a model by splitting the data into multiple subsets (folds) and training the model on some folds while testing on others.\n",
                "\n",
                "- **Types**:\n",
                "  - **K-Fold Cross-Validation**: Divides the dataset into k equally sized folds, trains the model on k-1 folds, and tests on the remaining fold. This is repeated k times, with each fold used exactly once as the test set.\n",
                "  - **Leave-One-Out Cross-Validation (LOOCV)**: Special case of k-fold cross-validation where k is equal to the number of data points in the dataset.\n",
                "\n",
                "- **Why it matters**: Cross-validation helps to assess how well a model will generalize to new, unseen data."
            ]
        },
        {
            "cell_type": "markdown",
            "id": "18d18ee4",
            "metadata": {},
            "source": [
                "## 7. Dimensionality Reduction"
            ]
        },
        {
            "cell_type": "markdown",
            "id": "7ee1cf3f",
            "metadata": {},
            "source": [
                "- **Definition**: Techniques used to reduce the number of input variables in a dataset by transforming the data into a lower-dimensional space.\n",
                "\n",
                "- **Key Methods**:\n",
                "  - **Principal Component Analysis (PCA)**: Projects the data onto directions (principal components) that maximize variance.\n",
                "  - **t-Distributed Stochastic Neighbor Embedding (t-SNE)**: A nonlinear technique for dimensionality reduction used mainly for visualization of high-dimensional datasets.\n",
                "\n",
                "- **Why it matters**: Reducing the number of dimensions can improve model performance by removing noise, speeding up computations, and avoiding the curse of dimensionality."
            ]
        },
        {
            "cell_type": "markdown",
            "id": "40c0375f",
            "metadata": {},
            "source": [
                "## 8. Hyperparameter Tuning"
            ]
        },
        {
            "cell_type": "markdown",
            "id": "b0448306",
            "metadata": {},
            "source": [
                "- **Definition**: Hyperparameters are parameters that are set before the learning process begins and control the behavior of the model. Tuning refers to the process of finding the best set of hyperparameters for optimal model performance.\n",
                "\n",
                "- **Methods**:\n",
                "  - **Grid Search**: Exhaustively tests all combinations of hyperparameter values from a specified set.\n",
                "  - **Random Search**: Randomly samples hyperparameter values within a specified range, which can be more efficient for high-dimensional spaces.\n",
                "  - **Bayesian Optimization**: Uses probabilistic models to predict good sets of hyperparameters."
            ]
        },
        {
            "cell_type": "markdown",
            "id": "d03d3877",
            "metadata": {},
            "source": [
                "## 9. Assessing Model Performance (For Binary Classification Models)\n",
                "\n",
                "### 1. Binary Classification Nature:\n",
                "* Predicted values in binary classification are often probabilities (between 0 and 1) or the final class labels (0 or 1).\n",
                "* Instead of continuous residuals (differences between predicted and actual values), we deal with probabilities or predicted classes."
            ]
        },
        {
            "cell_type": "markdown",
            "id": "d2e01af5",
            "metadata": {},
            "source": [
                "### 1. Classification Residual Plot (Deviance Residuals)\n",
                "* Purpose: Shows the difference between the predicted probabilities and the actual binary values.\n",
                "* How to Use: Calculate the residuals based on the predicted probabilities (not class labels) and plot them against the predicted values.\n",
                "* Deviance Residuals: These residuals are used to capture the goodness of fit for binary models. If the model predicts a probability of 0.9 for a true event (actual = 1), the residual will be small. If it predicts 0.1 for the same event, the residual will be large.\n"
            ]
        },
        {
            "cell_type": "code",
            "execution_count": 1,
            "id": "d37a987d",
            "metadata": {},
            "outputs": [],
            "source": [
                "# Import necessary libraries\n",
                "import numpy as np\n",
                "import matplotlib.pyplot as plt\n",
                "import seaborn as sns\n",
                "from sklearn.metrics import precision_recall_curve, roc_curve, confusion_matrix\n",
                "from sklearn.calibration import calibration_curve\n",
                "from sklearn.model_selection import train_test_split\n",
                "from sklearn.linear_model import LogisticRegression\n",
                "from sklearn.datasets import make_classification\n",
                "from sklearn.metrics import plot_precision_recall_curve, plot_roc_curve"
            ]
        },
        {
            "cell_type": "code",
            "execution_count": 2,
            "id": "1e3a3f08",
            "metadata": {},
            "outputs": [
                {
                    "data": {
                        "text/plain": [
                            "LogisticRegression()"
                        ]
                    },
                    "execution_count": 2,
                    "metadata": {},
                    "output_type": "execute_result"
                }
            ],
            "source": [
                "# Generate synthetic data for binary classification\n",
                "X, y = make_classification(n_samples=1000, n_features=20, n_classes=2, random_state=42)\n",
                "\n",
                "# Split data into train and test sets\n",
                "X_train, X_test, y_train, y_test = train_test_split(X, y, test_size=0.3, random_state=42)\n",
                "\n",
                "# Fit a Logistic Regression model\n",
                "model = LogisticRegression()\n",
                "model.fit(X_train, y_train)"
            ]
        },
        {
            "cell_type": "code",
            "execution_count": 3,
            "id": "f85376ef",
            "metadata": {},
            "outputs": [
                {
                    "data": {
                        "image/png": "[encoded data removed]",
                        "text/plain": [
                            "<Figure size 576x432 with 1 Axes>"
                        ]
                    },
                    "metadata": {
                        "needs_background": "light"
                    },
                    "output_type": "display_data"
                }
            ],
            "source": [
                "# Predict probabilities and class labels\n",
                "y_pred_prob = model.predict_proba(X_test)[:, 1]  # Predicted probabilities for class 1\n",
                "y_pred = model.predict(X_test)  # Predicted class labels\n",
                "\n",
                "# 1. Residual Plot for Binary Classification\n",
                "# Residuals = Actual - Predicted Probabilities\n",
                "residuals = y_test - y_pred_prob\n",
                "\n",
                "plt.figure(figsize=(8, 6))\n",
                "sns.residplot(x=y_pred_prob, y=residuals, lowess=True, line_kws={'color': 'red'})\n",
                "plt.xlabel('Predicted Probabilities')\n",
                "plt.ylabel('Residuals (Actual - Predicted Probabilities)')\n",
                "plt.title('Residual Plot for Binary Classification')\n",
                "plt.show()"
            ]
        },
        {
            "cell_type": "markdown",
            "id": "8ffe5989",
            "metadata": {},
            "source": [
                "The red plot in the graphs above represent the LOESS curve.\n",
                "In binary classification, residuals are the differences between the predicted probabilities and the actual labels (0 or 1). When you plot the residuals using a LOESS (Locally Weighted Scatterplot Smoothing) or LOWESS curve, you're looking for patterns that can indicate the performance of your model across different ranges of predicted probabilities.\n",
                "\n",
                "Here's how to interpret the plot:\n",
                "\n",
                "1. **A flat LOESS curve near zero**:\n",
                "\n",
                "If the LOESS curve is flat and close to zero, this indicates that your model is well-calibrated. The residuals are evenly distributed across the predicted probabilities, meaning the model is making accurate predictions without any systematic bias.\n",
                "2. **Upward or downward trends:**\n",
                "\n",
                "If the curve trends upward or downward, this could indicate bias in the model's predictions.\n",
                "Upward trend: Your model is underestimating probabilities for higher predicted values (i.e., predicted probabilities are too low).\n",
                "Downward trend: Your model is overestimating probabilities for higher predicted values (i.e., predicted probabilities are too high).\n",
                "3. **Bowl- or U-shaped curve:**\n",
                "\n",
                "A U-shaped or bowl-shaped LOESS curve suggests that the model is overconfident in extreme predictions (close to 0 or 1), but less accurate for predictions near 0.5. This is common in binary classification models that tend to overfit or make extreme probability predictions in both classes.\n",
                "4. **S-shaped curve:**\n",
                "\n",
                "An S-shaped curve might indicate non-linearity in the relationship between features and the target. The model might need to capture more complex patterns, possibly hinting that you could benefit from a more complex model or feature engineering.\n",
                "5. **Variance around the curve:**\n",
                "\n",
                "High variance or scattered points around the LOESS curve indicate heteroscedasticity (unequal spread of residuals). Ideally, the residuals should be uniformly spread around the LOESS curve, suggesting that the model performs equally well across all predicted probabilities.\n",
                "In summary, you want the LOWESS plot to be as flat and close to zero as possible, indicating minimal bias and good calibration of the model across all ranges of predicted probabilities. Trends or shapes in the plot suggest areas for improvement, such as model calibration or addressing bias."
            ]
        },
        {
            "cell_type": "markdown",
            "id": "0e13bfb5",
            "metadata": {},
            "source": [
                "## 10. Model Performance Evaluation\n",
                "\n",
                "When building machine learning models, it's important to evaluate their performance using appropriate metrics. The choice of metric depends on the type of problem (classification, regression, etc.) and the goals of the analysis.\n",
                "\n",
                "### 1. Confusion Matrix\n",
                "- **Definition**: A confusion matrix is a table used to evaluate the performance of a classification model by comparing actual vs. predicted values. It consists of four components:\n",
                "  - **True Positives (TP)**: Correctly predicted positive instances.\n",
                "  - **True Negatives (TN)**: Correctly predicted negative instances.\n",
                "  - **False Positives (FP)**: Incorrectly predicted positive instances (Type I error).\n",
                "  - **False Negatives (FN)**: Incorrectly predicted negative instances (Type II error).\n",
                "  \n",
                "- **Example**: A confusion matrix for a binary classification model might look like this:\n",
                "\n",
                "|               | Predicted Positive | Predicted Negative |\n",
                "|---------------|--------------------|--------------------|\n",
                "| Actual Positive | TP                 | FN                 |\n",
                "| Actual Negative | FP                 | TN                 |\n",
                "\n",
                "### 2. Precision\n",
                "- **Definition**: Precision is the ratio of correctly predicted positive observations to the total predicted positives. It answers the question: *Of all instances classified as positive, how many were actually positive?*\n",
                "  \n",
                "- **Formula**:\n",
                "  $$\n",
                "  \\text{Precision} = \\frac{TP}{TP + FP}\n",
                "  $$\n",
                "  \n",
                "- **Interpretation**: High precision means the model makes fewer false positive predictions. It is important when the cost of false positives is high, such as in medical diagnostics.\n",
                "\n",
                "### 3. Recall (Sensitivity or True Positive Rate)\n",
                "- **Definition**: Recall is the ratio of correctly predicted positive observations to all actual positives. It answers the question: *Of all actual positive instances, how many were correctly predicted?*\n",
                "  \n",
                "- **Formula**:\n",
                "  $$\n",
                "  \\text{Recall} = \\frac{TP}{TP + FN}\n",
                "  $$\n",
                "  \n",
                "- **Interpretation**: High recall indicates that the model captures most of the positive instances, but it might have more false positives. Recall is critical in scenarios where missing a positive case is more costly, such as in disease detection.\n",
                "\n",
                "### 4. F1-Score\n",
                "- **Definition**: The F1-score is the harmonic mean of precision and recall. It provides a single metric that balances the trade-off between precision and recall.\n",
                "  \n",
                "- **Formula**:\n",
                "  $$\n",
                "  \\text{F1} = 2 \\times \\frac{\\text{Precision} \\times \\text{Recall}}{\\text{Precision} + \\text{Recall}}\n",
                "  $$\n",
                "  \n",
                "- **Interpretation**: The F1-score is useful when we need a balance between precision and recall, especially in cases where the class distribution is imbalanced.\n",
                "\n",
                "### 5. Accuracy\n",
                "- **Definition**: Accuracy is the ratio of correctly predicted observations to the total observations.\n",
                "  \n",
                "- **Formula**:\n",
                "  $$\n",
                "  \\text{Accuracy} = \\frac{TP + TN}{TP + TN + FP + FN}\n",
                "  $$\n",
                "  \n",
                "- **Interpretation**: Accuracy is a good metric when the classes are balanced, but it can be misleading when the data is imbalanced. For instance, if 95% of instances are negative, a model that predicts everything as negative will have high accuracy but poor precision and recall.\n",
                "\n",
                "### 6. AUC-ROC (Area Under the Receiver Operating Characteristic Curve)\n",
                "- **Definition**: The ROC curve is a plot of the true positive rate (recall) against the false positive rate (1 - specificity). The area under the curve (AUC) provides a single metric that represents the overall performance of the model.\n",
                "\n",
                "- **Interpretation**: AUC-ROC values range from 0.5 (random guessing) to 1.0 (perfect classifier). It is useful for evaluating models on imbalanced datasets because it takes both positive and negative classes into account.\n",
                "\n",
                "### 7. Mean Squared Error (MSE)\n",
                "- **Definition**: MSE is used to evaluate regression models. It is the average of the squared differences between actual and predicted values.\n",
                "\n",
                "- **Formula**:\n",
                "  $$\n",
                "  \\text{MSE} = \\frac{1}{n} \\sum_{i=1}^{n} (y_i - \\hat{y}_i)^2\n",
                "  $$\n",
                "  \n",
                "- **Interpretation**: A lower MSE indicates a better model fit. However, since it squares the errors, larger errors are penalized more heavily.\n",
                "\n",
                "### 8. R-squared (R²)\n",
                "- **Definition**: R-squared is a statistical measure that represents the proportion of the variance in the dependent variable that is explained by the independent variables in a regression model.\n",
                "\n",
                "- **Formula**:\n",
                "  $$\n",
                "  R^2 = 1 - \\frac{\\sum_{i=1}^{n} (y_i - \\hat{y}_i)^2}{\\sum_{i=1}^{n} (y_i - \\bar{y})^2}\n",
                "  $$\n",
                "  \n",
                "- **Interpretation**: R² values range from 0 to 1. A higher R² value indicates a better fit of the model to the data. An R² of 0 means the model does not explain any of the variance, while an R² of 1 means the model explains all the variance.\n"
            ]
        }
    ],
    "metadata": {
        "kernelspec": {
            "display_name": "myenv",
            "language": "python",
            "name": "python3"
        },
        "language_info": {
            "codemirror_mode": {
                "name": "ipython",
                "version": 3
            },
            "file_extension": ".py",
            "mimetype": "text/x-python",
            "name": "python",
            "nbconvert_exporter": "python",
            "pygments_lexer": "ipython3",
            "version": "3.6.12"
        }
    },
    "nbformat": 4,
    "nbformat_minor": 5
}
